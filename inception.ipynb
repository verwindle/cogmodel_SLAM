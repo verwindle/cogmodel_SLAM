{
 "cells": [
  {
   "cell_type": "markdown",
   "metadata": {},
   "source": [
    "## Тестовое задание в лабораторию интеллектуального транспорта\n",
    "\n",
    "### Источники\n",
    "От \"заказчика\"\n",
    "- __[Статья из дока: RTAB-Map as an Open-Source Lidar and Visual SLAM Library for Large-Scale and Long-Term Online Operation](https://introlab.3it.usherbrooke.ca/mediawiki-introlab/images/7/7a/Labbe18JFR_preprint.pdf)__\n",
    "- __[Real-Time Appearance-Based Mapping](https://github.com/introlab/rtabmap)__\n",
    "- __[RTAB-Map on github, C++](https://github.com/introlab/rtabmap)__\n",
    "- __[RTAB-Map under ROS](http://wiki.ros.org/rtabmap)__\n",
    "\n",
    "Далее, наверное, со всем можно сразу познакомиться на хабре\n",
    "- __[Обзор алгоритмов SLAM для камер глубины в ROS](https://habr.com/ru/post/373707/)__\n",
    "- __[Доклады второго ROS Meetup по навигации роботов](https://habr.com/ru/post/493792/)__\n",
    "- __[ROS: использование камер глубины](https://habr.com/ru/post/404757/)__\n",
    "\n",
    "У Захаркина дожны быть отправные точки для зрения\n",
    "\n",
    "- __[CV 1](https://habr.com/ru/company/mipt/blog/450732/)__\n",
    "- __[CV 2](https://habr.com/ru/company/mipt/blog/458190/)__\n",
    "\n",
    "Кажется, это старая статья про \"основы\". Под вопросом\n",
    "\n",
    "- [Первые шаги вместе с ROS](https://habr.com/ru/company/tod/blog/204250/)\n",
    "\n",
    "Беспилотники\n",
    "\n",
    "- [Автопилот своими силами](https://habr.com/ru/post/325704/)\n",
    "\n",
    "Дальше что то невнятное пока\n",
    "\n",
    "\n",
    "- __[Lyft 3D](https://habr.com/ru/post/467405/). На каггле подглядеть.__\n",
    "- __~~[Работа с несколькими моделями в Keras](https://habr.com/ru/post/465093/)~~. Вообще keras то зачем, но статью сохраню.__\n",
    "\n",
    "Дальше по ходу пунктов ТЗ, есть еще ссылки, наверное, чтобы я точно смог выполнить бэйзлайн. Или студентам даже на этапе теста активно помогают. Я привык к меньшему уровню наставничества, круто )  \n",
    "\n",
    "Пока что, идем по литературе, вникаем в тему. После на гит.\n",
    "\n",
    "У openAI вроде было много про RL, можно глянуть только после основы. Хотя зачем.\n",
    "\n",
    "Статью и плюсы на сладкое.\n",
    "\n",
    "Но не то чтобы, совсем, а то, возможно я сейчас буду читать что попало не по теме."
   ]
  }
 ],
 "metadata": {
  "kernelspec": {
   "display_name": "Python 3",
   "language": "python",
   "name": "python3"
  },
  "language_info": {
   "codemirror_mode": {
    "name": "ipython",
    "version": 3
   },
   "file_extension": ".py",
   "mimetype": "text/x-python",
   "name": "python",
   "nbconvert_exporter": "python",
   "pygments_lexer": "ipython3",
   "version": "3.8.3"
  }
 },
 "nbformat": 4,
 "nbformat_minor": 4
}
