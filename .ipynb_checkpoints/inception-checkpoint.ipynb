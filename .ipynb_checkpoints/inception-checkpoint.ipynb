{
 "cells": [
  {
   "cell_type": "markdown",
   "metadata": {},
   "source": [
    "<font color='#D60B0B' size=5>__Тестовое задание в лабораторию интеллектуального транспорта__</font>\n",
    "### <font color='#D60B0B'>Источники</font>\n",
    "> От \"заказчика\"\n",
    "- __[Статья из дока: RTAB-Map as an Open-Source Lidar and Visual SLAM Library for Large-Scale and Long-Term Online Operation](https://introlab.3it.usherbrooke.ca/mediawiki-introlab/images/7/7a/Labbe18JFR_preprint.pdf)__\n",
    "- __[Real-Time Appearance-Based Mapping](http://introlab.github.io/rtabmap/)__\n",
    "- __[RTAB-Map on github, C++](https://github.com/introlab/rtabmap)__\n",
    "- __[RTAB-Map under ROS](http://wiki.ros.org/rtabmap)__\n",
    "\n",
    "> Далее, наверное, со всем можно сразу познакомиться на хабре\n",
    "- __[Обзор алгоритмов SLAM для камер глубины в ROS](https://habr.com/ru/post/373707/)__\n",
    "- __[Доклады второго ROS Meetup по навигации роботов](https://habr.com/ru/post/493792/)__\n",
    "- __[ROS: использование камер глубины](https://habr.com/ru/post/404757/)__\n",
    "\n",
    "> У Захаркина дожны быть отправные точки для зрения\n",
    "- __[CV 1](https://habr.com/ru/company/mipt/blog/450732/)__\n",
    "- __[CV 2](https://habr.com/ru/company/mipt/blog/458190/)__\n",
    "\n",
    "> Кажется, это старая статья про \"основы\". Под вопросом\n",
    "- __[Первые шаги вместе с ROS](https://habr.com/ru/company/tod/blog/204250/)__\n",
    "\n",
    "> Беспилотники\n",
    "- __[Автопилот своими силами](https://habr.com/ru/post/325704/)__\n",
    "\n",
    "> Дальше что то невнятное пока\n",
    "- __[Lyft 3D](https://habr.com/ru/post/467405/). На каггле подглядеть.__\n",
    "- __~~[Работа с несколькими моделями в Keras](https://habr.com/ru/post/465093/)~~. Вообще keras то зачем, но статью сохраню.__\n",
    "\n",
    "По ходу пунктов ТЗ, есть еще ссылки, наверное, чтобы я точно смог выполнить бэйзлайн. Или студентам даже на этапе теста активно помогают. Я привык к меньшему уровню наставничества, круто )  \n",
    "\n",
    "Пока что, идем по литературе, вникаем в тему. После на гит.\n",
    "\n",
    "У openAI вроде было много про RL, можно глянуть только после основы. Хотя зачем.\n",
    "\n",
    "Статью и плюсы на сладкое.\n",
    "\n",
    "Но не то чтобы, совсем, а то, возможно я сейчас буду читать что попало не по теме."
   ]
  },
  {
   "cell_type": "markdown",
   "metadata": {},
   "source": [
    "<img src='https://i.gifer.com/WDV.gif' style='width: 100px'>"
   ]
  },
  {
   "cell_type": "markdown",
   "metadata": {},
   "source": [
    "Продолжаем разбор материала. После быстрого экскурса гитхаба идет установка, а после непоняток и статья.\n",
    "\n",
    "На самом деле статья это скорее мануал по ros'у, одометрии, используемым алгоритмам, их разбор, RTABmap, как основа.\n",
    "\n",
    "### <font color='#D60B0B'>Установка ROS и RTABMAP</font>\n",
    "\n",
    "Находим возможность подтянуть rtabmap через докер.\n",
    "<img src='rtabmap_dock.png' style='width: 600px'>\n",
    "\n",
    "К сожалению, на clear не вышло удобно собрать docker img, снова проблемы с \"доп\" видеокартой nvidia.\n",
    "\n",
    "Однажды попытка использовать nvidia для gpu ускорения нейронок на clear linux мне стоило недели жизни, некоторых \n",
    "\n",
    "файлов и 2-х крашей винды, причем один без возможности восстановления.\n",
    "<img src='nvidia.png' style='width: 600px'>\n",
    "\n",
    "Так что вынужденным образом собираем по частям на ubuntu. Топорно через apt + cmake. \n",
    "***"
   ]
  },
  {
   "cell_type": "code",
   "execution_count": 17,
   "metadata": {},
   "outputs": [
    {
     "data": {
      "text/html": [
       "\n",
       "        <style>\n",
       "        .output {\n",
       "            display: flex;\n",
       "            align-items: center;\n",
       "            text-align: right;\n",
       "        }\n",
       "        </style>\n",
       "        "
      ],
      "text/plain": [
       "<IPython.core.display.HTML object>"
      ]
     },
     "metadata": {},
     "output_type": "display_data"
    },
    {
     "data": {
      "application/vnd.jupyter.widget-view+json": {
       "model_id": "c543e74505dc4b45a4b251c5aea9894f",
       "version_major": 2,
       "version_minor": 0
      },
      "text/plain": [
       "Dropdown(description='tools:', options=('--', 'ros', 'rosdep', 'gazebo', 'rtabmap'), value='--')"
      ]
     },
     "metadata": {},
     "output_type": "display_data"
    }
   ],
   "source": [
    "%run installed_tools.py"
   ]
  },
  {
   "cell_type": "markdown",
   "metadata": {},
   "source": [
    "### <font color='#D60B0B'>Запуск примеров из коробки</font>"
   ]
  },
  {
   "cell_type": "code",
   "execution_count": 127,
   "metadata": {},
   "outputs": [],
   "source": [
    "%run bag_services.py\n",
    "\n",
    "# clear_output()"
   ]
  },
  {
   "cell_type": "markdown",
   "metadata": {},
   "source": [
    "Ура, я умею крутить кино. На самом деле пока это какой то \"фит-предикт\", надо бы что то явно поинтереснее.\n",
    "    \n",
    "Между прочим, по CV пока ничего не понятно, возможно стоит посмотреть, что там вообще за данные.\n",
    "\n",
    "Следующий этап - изучаем туториалы, кандидат для изучения: [the Construct](https://www.theconstructsim.com/). "
   ]
  },
  {
   "cell_type": "markdown",
   "metadata": {},
   "source": [
    "<img src='https://i.gifer.com/WDV.gif' style='width: 100px'>"
   ]
  },
  {
   "cell_type": "markdown",
   "metadata": {},
   "source": [
    "### <font color='#D60B0B'>Освоение ROS</font>\n",
    "\n",
    "На самом деле в задании не очень много, а тема занятная. Вдобавок - вот что мы видим в __/share__:\n",
    "\n",
    "<img src='ros_share.png' style='width: 600px'>\n",
    "\n",
    "А вот и все звери:"
   ]
  },
  {
   "cell_type": "code",
   "execution_count": 1,
   "metadata": {},
   "outputs": [
    {
     "data": {
      "application/vnd.jupyter.widget-view+json": {
       "model_id": "2f40f6a11bf04cb594f1fa2d726233bf",
       "version_major": 2,
       "version_minor": 0
      },
      "text/plain": [
       "Button(button_style='danger', description='Показать все', style=ButtonStyle(), tooltip=\"I'm waiting\")"
      ]
     },
     "metadata": {},
     "output_type": "display_data"
    }
   ],
   "source": [
    "%run show_share.py"
   ]
  },
  {
   "cell_type": "markdown",
   "metadata": {},
   "source": [
    "Крайне интересно, но ничего не понятно. Так я прошелся по документации и туториалам.\n",
    "\n",
    "Таким образом, на этом этапе я немного расширил свой кругозор. Пересмотрел [источники](#Источники)  (я ж не был в теме тогда).\n",
    "\n",
    "> __Приведу здесь материалы, которые было полезно освоить. Пока что никакого map'a.__\n",
    "1. Курс ROS in 5 days от robot ignite [на С++](https://www.theconstructsim.com/robotigniteacademy_learnros/ros-courses-library/ros-courses-ros-basics-in-5-days-c/) и [на python](https://www.theconstructsim.com/robotigniteacademy_learnros/ros-courses-library/ros-python-course/)\n",
    "2. Его старая версия - [гуглдок](https://docs.google.com/document/d/1qyxLRca5o0URCggOBt0i32CU8aDuOKr9LcjkfZ7vRE0/edit#) с относительно коротким, но подробным описанием и [гитхаб](https://github.com/eborghi10/ROS-in-Five-Days) \n",
    "3. [Туториал с ros'a по catkin](http://wiki.ros.org/catkin/Tutorials) (скорее по ros package)\n",
    "4. [Кирпич по ROS](http://motorboard.ru/files/Learning-ROS-for-Robotics-Programming.pdf) \n",
    "\n",
    "Congratulations! You’re on the path to becoming a ROS Developer. __Теперь более подробно:__\n"
   ]
  },
  {
   "cell_type": "code",
   "execution_count": 2,
   "metadata": {},
   "outputs": [
    {
     "data": {
      "text/html": [
       "\n",
       "        <style>\n",
       "        .output {\n",
       "            display: flex;\n",
       "            align-items: center;\n",
       "            text-align: right;\n",
       "        }\n",
       "        </style>\n",
       "        "
      ],
      "text/plain": [
       "<IPython.core.display.HTML object>"
      ]
     },
     "metadata": {},
     "output_type": "display_data"
    },
    {
     "data": {
      "application/vnd.jupyter.widget-view+json": {
       "model_id": "66717788088f40acbc2b604cf352b731",
       "version_major": 2,
       "version_minor": 0
      },
      "text/plain": [
       "Dropdown(description='Пункт ↑:', options=('--', '1', '2', '3', '4'), value='--')"
      ]
     },
     "metadata": {},
     "output_type": "display_data"
    }
   ],
   "source": [
    "%run ros_knowledge.py"
   ]
  },
  {
   "cell_type": "markdown",
   "metadata": {},
   "source": [
    "***    \n",
    "Теперь самое время все осмыслить и записать в подкорку)\n",
    "\n",
    "Далее ожидается сборка проекта и упаковка на гитхаб, так, чтобы бы можно было использовать, что я там напридумываю китайским методом.\n",
    "\n",
    "Однажды займусь и сламом.\n",
    "    \n",
    "<img src='https://brainconnection.brainhq.com/testlets/abc-gulp/images/_preloader.gif' style='width: 250px'>"
   ]
  },
  {
   "cell_type": "markdown",
   "metadata": {},
   "source": [
    "Так уж выходит, что на python можно сделать очень много. И это тенденция.\n",
    "\n",
    "Ясно, что ros работает c C++ и еще с python (вроде бы еще некий groovy). Но цитируя не помню кого:\n",
    "\n",
    "\"С++ это сборник эффективного кода для всего, что вам может понадобиться, но скорее всего того, что не понадобится. Если бы вы выкидывали из плюсов все ненужное, стараясь оставить крутые вещи, я уверен - вы бы пришли к python\".\n",
    "\n",
    "Поэтому я пришел к..."
   ]
  },
  {
   "cell_type": "code",
   "execution_count": 128,
   "metadata": {},
   "outputs": [
    {
     "data": {
      "application/vnd.jupyter.widget-view+json": {
       "model_id": "37c0bcbce6b640ae83ec6a93b034c579",
       "version_major": 2,
       "version_minor": 0
      },
      "text/plain": [
       "Button(button_style='danger', description='К чему?', style=ButtonStyle(), tooltip=\"I'm waiting\")"
      ]
     },
     "metadata": {},
     "output_type": "display_data"
    }
   ],
   "source": [
    "%run genius.py"
   ]
  },
  {
   "cell_type": "code",
   "execution_count": 18,
   "metadata": {
    "scrolled": false
   },
   "outputs": [
    {
     "data": {
      "application/vnd.jupyter.widget-view+json": {
       "model_id": "306f75e6a5424e6584330d8b903ff7e5",
       "version_major": 2,
       "version_minor": 0
      },
      "text/plain": [
       "FloatSlider(value=8.0, continuous_update=False, description='Балл:', max=10.0, step=0.5)"
      ]
     },
     "metadata": {},
     "output_type": "display_data"
    }
   ],
   "source": [
    "%run estimate_me.py "
   ]
  }
 ],
 "metadata": {
  "kernelspec": {
   "display_name": "Python 3",
   "language": "python",
   "name": "python3"
  },
  "language_info": {
   "codemirror_mode": {
    "name": "ipython",
    "version": 3
   },
   "file_extension": ".py",
   "mimetype": "text/x-python",
   "name": "python",
   "nbconvert_exporter": "python",
   "pygments_lexer": "ipython3",
   "version": "3.8.3"
  },
  "toc": {
   "base_numbering": 1,
   "nav_menu": {},
   "number_sections": true,
   "sideBar": true,
   "skip_h1_title": false,
   "title_cell": "Table of Contents",
   "title_sidebar": "Contents",
   "toc_cell": false,
   "toc_position": {},
   "toc_section_display": true,
   "toc_window_display": false
  }
 },
 "nbformat": 4,
 "nbformat_minor": 4
}
