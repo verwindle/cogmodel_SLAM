{
 "cells": [
  {
   "cell_type": "markdown",
   "metadata": {},
   "source": [
    "<font color='#D60B0B' size=5><center>__Тестовое задание в лабораторию интеллектуального транспорта__</center></font>\n",
    "_<font color='#D60B0B' size=3><center>Исполнитель: Зарубин В. В.</center></font>_\n",
    "***\n",
    "***\n",
    "__<font color='#D60B0B' size=3><center>Необходимо прогнать ячейки: Cell -> Run All Below</center></font>__\n",
    "\n",
    "\n",
    "__<font color='#D60B0B'><center>*Еще важно заметить,*</center></font>\n",
    "<font><center>что эта страница создавалась следуя хронологии моего погружения в тему.__</font></center>\n",
    "\n",
    "<font><center>__Чтобы посмотреть на выполнение *самого задания* необходимо перейти к секции [Результаты](#Результаты).__</font></center>\n",
    "\n",
    "***\n",
    "***\n",
    "\n",
    "### <font color='#D60B0B'>Источники</font>\n",
    "> От \"заказчика\"\n",
    "- __[Статья из дока: RTAB-Map as an Open-Source Lidar and Visual SLAM Library for Large-Scale and Long-Term Online Operation](https://introlab.3it.usherbrooke.ca/mediawiki-introlab/images/7/7a/Labbe18JFR_preprint.pdf)__\n",
    "- __[Real-Time Appearance-Based Mapping](http://introlab.github.io/rtabmap/)__\n",
    "- __[RTAB-Map on github, C++](https://github.com/introlab/rtabmap)__\n",
    "- __[RTAB-Map under ROS](http://wiki.ros.org/rtabmap)__\n",
    "\n",
    "> Далее, наверное, со всем можно сразу познакомиться на хабре\n",
    "- __[Обзор алгоритмов SLAM для камер глубины в ROS](https://habr.com/ru/post/373707/)__\n",
    "- __[Доклады второго ROS Meetup по навигации роботов](https://habr.com/ru/post/493792/)__\n",
    "- __[ROS: использование камер глубины](https://habr.com/ru/post/404757/)__\n",
    "\n",
    "> У Захаркина дожны быть отправные точки для зрения\n",
    "- __[CV 1](https://habr.com/ru/company/mipt/blog/450732/)__\n",
    "- __[CV 2](https://habr.com/ru/company/mipt/blog/458190/)__\n",
    "\n",
    "> Кажется, это старая статья про \"основы\". Под вопросом\n",
    "- __[Первые шаги вместе с ROS](https://habr.com/ru/company/tod/blog/204250/)__\n",
    "\n",
    "> Беспилотники\n",
    "- __[Автопилот своими силами](https://habr.com/ru/post/325704/)__\n",
    "\n",
    "> Дальше что то невнятное пока\n",
    "- __[Lyft 3D](https://habr.com/ru/post/467405/). На каггле подглядеть.__\n",
    "- __~~[Работа с несколькими моделями в Keras](https://habr.com/ru/post/465093/)~~. Вообще keras то зачем, но статью сохраню.__\n",
    "\n",
    "По ходу пунктов ТЗ, есть еще ссылки, наверное, чтобы я точно смог выполнить бэйзлайн. Или студентам даже на этапе теста активно помогают. Я привык к меньшему уровню наставничества, круто )  \n",
    "\n",
    "Пока что, идем по литературе, вникаем в тему. После на гит.\n",
    "\n",
    "У openAI вроде было много про RL, можно глянуть только после основы. Хотя зачем.\n",
    "\n",
    "Статью и плюсы на сладкое.\n",
    "\n",
    "Но не то чтобы, совсем, а то, возможно я сейчас буду читать что попало не по теме."
   ]
  },
  {
   "cell_type": "markdown",
   "metadata": {},
   "source": [
    "<img src='https://i.gifer.com/WDV.gif' style='width: 100px'>"
   ]
  },
  {
   "cell_type": "markdown",
   "metadata": {},
   "source": [
    "Продолжаем разбор материала. После быстрого экскурса гитхаба идет установка, а после непоняток и статья.\n",
    "\n",
    "На самом деле статья это скорее мануал по ros'у, одометрии, используемым алгоритмам, их разбор, RTABmap, как основа.\n",
    "\n",
    "### <font color='#D60B0B'>Установка ROS и RTABMAP</font>\n",
    "\n",
    "Находим возможность подтянуть rtabmap через докер.\n",
    "<img src='../media/rtabmap_dock.png' style='width: 600px'>\n",
    "\n",
    "К сожалению, на clear не вышло удобно собрать docker img, снова проблемы с \"доп\" видеокартой nvidia.\n",
    "\n",
    "Однажды попытка использовать nvidia для gpu ускорения нейронок на clear linux мне стоило недели жизни, некоторых \n",
    "\n",
    "файлов и 2-х крашей винды, причем один без возможности восстановления.\n",
    "<img src='../media/nvidia.png' style='width: 600px'>\n",
    "\n",
    "Так что вынужденным образом собираем по частям на ubuntu. Топорно через apt + cmake. \n",
    "***"
   ]
  },
  {
   "cell_type": "code",
   "execution_count": 31,
   "metadata": {
    "scrolled": true
   },
   "outputs": [
    {
     "data": {
      "text/html": [
       "\n",
       "        <style>\n",
       "        .output {\n",
       "            display: flex;\n",
       "            align-items: center;\n",
       "            text-align: right;\n",
       "        }\n",
       "        </style>\n",
       "        "
      ],
      "text/plain": [
       "<IPython.core.display.HTML object>"
      ]
     },
     "metadata": {},
     "output_type": "display_data"
    },
    {
     "data": {
      "application/vnd.jupyter.widget-view+json": {
       "model_id": "7746c9c2bf344fed81b64ced61bff84a",
       "version_major": 2,
       "version_minor": 0
      },
      "text/plain": [
       "Dropdown(description='tools:', options=('--', 'ros', 'rosdep', 'gazebo', 'rtabmap'), value='--')"
      ]
     },
     "metadata": {},
     "output_type": "display_data"
    }
   ],
   "source": [
    "%run installed_tools.py"
   ]
  },
  {
   "cell_type": "markdown",
   "metadata": {},
   "source": [
    "### <font color='#D60B0B'>Запуск</font>\n",
    "__<font color='#D60B0B' size=3>примеров из коробки</font>__"
   ]
  },
  {
   "cell_type": "code",
   "execution_count": 32,
   "metadata": {},
   "outputs": [
    {
     "data": {
      "application/vnd.jupyter.widget-view+json": {
       "model_id": "59ed47358b72431aa499843760baf191",
       "version_major": 2,
       "version_minor": 0
      },
      "text/plain": [
       "ToggleButtons(button_style='danger', icons=('check', 'check'), options=('Улица', 'Помещение'), tooltips=(\"I'm …"
      ]
     },
     "metadata": {},
     "output_type": "display_data"
    },
    {
     "data": {
      "text/markdown": [
       "\n",
       "__Outdoor__\n",
       "<img src='../media/outdoor_1.png' style='width: 600px'>\n",
       "<table><tr><td><img src='../media/outdoor_2.png' style='width: 300px'><td><td>\n",
       "<img src='../media/outdoor_3.png' style='width: 300px'><td><tr><table>\n"
      ],
      "text/plain": [
       "<IPython.core.display.Markdown object>"
      ]
     },
     "metadata": {},
     "output_type": "display_data"
    }
   ],
   "source": [
    "%run bag_services.py"
   ]
  },
  {
   "cell_type": "markdown",
   "metadata": {},
   "source": [
    "Ура, я умею крутить кино. На самом деле пока это какой то \"фит-предикт\", надо бы что то явно поинтереснее.\n",
    "    \n",
    "Между прочим, по CV пока ничего не понятно, возможно стоит посмотреть, что там вообще за данные.\n",
    "\n",
    "Следующий этап - изучаем туториалы, кандидат для изучения: [the Construct](https://www.theconstructsim.com/). "
   ]
  },
  {
   "cell_type": "markdown",
   "metadata": {},
   "source": [
    "<img src='https://i.gifer.com/WDV.gif' style='width: 100px'>"
   ]
  },
  {
   "cell_type": "markdown",
   "metadata": {},
   "source": [
    "### <font color='#D60B0B'>Освоение ROS</font>\n",
    "\n",
    "На самом деле в задании не очень много, а тема занятная. Вдобавок - вот что мы видим в __/share__:\n",
    "\n",
    "<img src='../media/ros_share.png' style='width: 600px'>\n",
    "\n",
    "А вот и все звери:"
   ]
  },
  {
   "cell_type": "code",
   "execution_count": 33,
   "metadata": {},
   "outputs": [
    {
     "data": {
      "application/vnd.jupyter.widget-view+json": {
       "model_id": "8f6eabba32cb4906a44adf6f28fc13d1",
       "version_major": 2,
       "version_minor": 0
      },
      "text/plain": [
       "Button(button_style='danger', description='Показать все', style=ButtonStyle(), tooltip=\"I'm waiting\")"
      ]
     },
     "metadata": {},
     "output_type": "display_data"
    }
   ],
   "source": [
    "%run show_share.py"
   ]
  },
  {
   "cell_type": "markdown",
   "metadata": {},
   "source": [
    "Крайне интересно, но ничего не понятно. Так я прошелся по документации и туториалам.\n",
    "\n",
    "Таким образом, на этом этапе я немного расширил свой кругозор. Пересмотрел [источники](#Источники)  (я ж не был в теме тогда).\n",
    "\n",
    "> __Приведу здесь материалы, которые было полезно освоить. Пока что никакого map'a.__\n",
    "1. Курс ROS in 5 days от robot ignite [на С++](https://www.theconstructsim.com/robotigniteacademy_learnros/ros-courses-library/ros-courses-ros-basics-in-5-days-c/) и [на python](https://www.theconstructsim.com/robotigniteacademy_learnros/ros-courses-library/ros-python-course/)\n",
    "2. Его старая версия - [гуглдок](https://docs.google.com/document/d/1qyxLRca5o0URCggOBt0i32CU8aDuOKr9LcjkfZ7vRE0/edit#) с относительно коротким, но подробным описанием и [гитхаб](https://github.com/eborghi10/ROS-in-Five-Days) \n",
    "3. [Туториал с ros'a по catkin](http://wiki.ros.org/catkin/Tutorials) (скорее по ros package)\n",
    "4. [Кирпич по ROS](http://motorboard.ru/files/Learning-ROS-for-Robotics-Programming.pdf) \n",
    "\n",
    "Congratulations! You’re on the path to becoming a ROS Developer. __Теперь более подробно:__\n"
   ]
  },
  {
   "cell_type": "code",
   "execution_count": 34,
   "metadata": {},
   "outputs": [
    {
     "data": {
      "text/html": [
       "\n",
       "        <style>\n",
       "        .output {\n",
       "            display: flex;\n",
       "            align-items: center;\n",
       "            text-align: right;\n",
       "        }\n",
       "        </style>\n",
       "        "
      ],
      "text/plain": [
       "<IPython.core.display.HTML object>"
      ]
     },
     "metadata": {},
     "output_type": "display_data"
    },
    {
     "data": {
      "application/vnd.jupyter.widget-view+json": {
       "model_id": "5d159077a1a94535a4bf3c1188778bcf",
       "version_major": 2,
       "version_minor": 0
      },
      "text/plain": [
       "Dropdown(description='Пункт ↑:', options=('--', '1', '2', '3', '4'), value='--')"
      ]
     },
     "metadata": {},
     "output_type": "display_data"
    }
   ],
   "source": [
    "%run ros_knowledge.py"
   ]
  },
  {
   "cell_type": "markdown",
   "metadata": {},
   "source": [
    "***    \n",
    "Теперь самое время все осмыслить и записать в подкорку)\n",
    "\n",
    "Далее ожидается сборка проекта и упаковка на гитхаб, так, чтобы бы можно было использовать, что я там напридумываю китайским методом.\n",
    "\n",
    "Однажды займусь и сламом.\n",
    "    \n",
    "<img src='https://brainconnection.brainhq.com/testlets/abc-gulp/images/_preloader.gif' style='width: 250px'>"
   ]
  },
  {
   "cell_type": "markdown",
   "metadata": {},
   "source": [
    "Так уж выходит, что на python можно сделать очень много. И это тенденция.\n",
    "\n",
    "Ясно, что ros работает c C++ и еще с python (вроде бы еще некий groovy). Но цитируя не помню кого:\n",
    "\n",
    "\"С++ это сборник эффективного кода для всего, что вам может понадобиться, но скорее всего того, что не понадобится. Если бы вы выкидывали из плюсов все ненужное, стараясь оставить крутые вещи, я уверен - вы бы пришли к python\".\n",
    "\n",
    "Поэтому я пришел к..."
   ]
  },
  {
   "cell_type": "code",
   "execution_count": 35,
   "metadata": {},
   "outputs": [
    {
     "data": {
      "application/vnd.jupyter.widget-view+json": {
       "model_id": "c1589284b4404788964af711f73ef97e",
       "version_major": 2,
       "version_minor": 0
      },
      "text/plain": [
       "Button(button_style='danger', description='К чему?', style=ButtonStyle(), tooltip=\"I'm waiting\")"
      ]
     },
     "metadata": {},
     "output_type": "display_data"
    }
   ],
   "source": [
    "%run genius.py"
   ]
  },
  {
   "cell_type": "markdown",
   "metadata": {},
   "source": [
    "### <font color='#D60B0B'>Неудачи и проблемы</font>\n",
    "Я отнесся к словам о ценности умения использовать различные инструменты для задачи вполне серьезно.\n",
    "\n",
    "Вдобавок сами пункты задания казалось были почти сделаны. Поэтому я и стал заниматься тем, что хорошо описывается картинкой сверху.\n",
    "\n",
    "__К _1 июля_ у меня уже было все, что есть сверху. Что же описано в этой секции заняло у меня время до _6 июля_.__\n",
    "\n",
    "Единственный плюс - я много раз сделал все заново и, надеюсь, лучше понял тему в целом. А также стал больше фиксировать, что я делаю.\n",
    "\n",
    "__По итогу я вернулся к слэму и нашел уже по картинке в голове отличную [статью](https://www.researchgate.net/publication/326986124_REAL-TIME_2D_AND_3D_SLAM_USING_RTAB-MAP_GMAPPING_AND_CARTOGRAPHER_PACKAGES) на researchgate.__ \n",
    "\n",
    "Весь процесс можно описать так:\n",
    "    \n",
    "                                    собрались ->  подготовились -> облажались "
   ]
  },
  {
   "cell_type": "code",
   "execution_count": 36,
   "metadata": {},
   "outputs": [
    {
     "data": {
      "application/vnd.jupyter.widget-view+json": {
       "model_id": "aafb10c8ccf64e0888523ae22145f47a",
       "version_major": 2,
       "version_minor": 0
      },
      "text/plain": [
       "ToggleButtons(button_style='danger', icons=('check', 'check'), options=('Желаемое', 'Действительное'), tooltip…"
      ]
     },
     "metadata": {},
     "output_type": "display_data"
    },
    {
     "data": {
      "text/html": [
       "<iframe width=\"720\" height=\"480\" src=\"https://www.youtube.com/embed/EOdA5X-K8H8\" frameborder=\"1\" allow=\"accelerometer; encrypted-media; gyroscope; picture-in-picture\" allowfullscreen></iframe>"
      ],
      "text/plain": [
       "<IPython.core.display.HTML object>"
      ]
     },
     "metadata": {},
     "output_type": "display_data"
    }
   ],
   "source": [
    "%run comparison.py"
   ]
  },
  {
   "cell_type": "markdown",
   "metadata": {},
   "source": [
    "__Далее скрытая секция, где я опишу кое-что из этих неудач и общий путь.__"
   ]
  },
  {
   "cell_type": "code",
   "execution_count": 37,
   "metadata": {
    "scrolled": false
   },
   "outputs": [
    {
     "data": {
      "application/vnd.jupyter.widget-view+json": {
       "model_id": "8d6eb038dbf6449496f826ad32c27744",
       "version_major": 2,
       "version_minor": 0
      },
      "text/plain": [
       "Button(button_style='danger', description='Секция неудач', style=ButtonStyle(), tooltip='danger')"
      ]
     },
     "metadata": {},
     "output_type": "display_data"
    }
   ],
   "source": [
    "%run expectations_bemoan.py"
   ]
  },
  {
   "cell_type": "code",
   "execution_count": 38,
   "metadata": {},
   "outputs": [
    {
     "data": {
      "application/vnd.jupyter.widget-view+json": {
       "model_id": "7e0c2cee24584bd398ac2cc72bc4684d",
       "version_major": 2,
       "version_minor": 0
      },
      "text/plain": [
       "Dropdown(description='Пара .txt', options=('--', 'Заметки часть 1', 'Заметки часть 2'), value='--')"
      ]
     },
     "metadata": {},
     "output_type": "display_data"
    }
   ],
   "source": [
    "%run show_installment_txts.py"
   ]
  },
  {
   "cell_type": "markdown",
   "metadata": {},
   "source": [
    "CATKIN MAKE IMAGE\n",
    "<img src='https://i.gifer.com/WDV.gif' style='width: 100px'>"
   ]
  },
  {
   "cell_type": "markdown",
   "metadata": {},
   "source": [
    "## <font color='#D60B0B'>Результаты</font>\n",
    "\n",
    "### <font color='#D60B0B'>Как собирать проект</font>\n",
    "\n",
    "__ros-melodic__\n",
    "<img src='../media/great_install_full_except_rtabmap_rviz__learning_now_discarded.png' style='width: 600px'>\n",
    "\n",
    "__rtab-map__\n",
    "<img src='../media/rtabmap_install.png' style='width: 600px'>\n",
    "\n",
    "\n",
    "__opencv__ (manual cmake)\n",
    "<img src='../media/opencv_build.png' style='width: 600px'>\n",
    "\n",
    "### [<font color='#D60B0B'>Первичный запуск bag'ов</font>](#Запуск)\n",
    "\n",
    "И вот записи, которые я запускал в целом.\n",
    "\n",
    "<img src='../media/bags.png' style='width: 600px'>"
   ]
  },
  {
   "cell_type": "markdown",
   "metadata": {},
   "source": [
    "### <font color='#D60B0B'>Позы робота</font>\n",
    "\n",
    "Вообще то я долго искал, но не нашел ground truth поз ни для stereo outdoor ни для multi session demos.\n",
    "Что, может быть, важно - [сайт с библиотекой](http://www.cvlibs.net/datasets/kitti/eval_odometry.php) примеров kitti odometry. Можно ознакомиться вот с [таким](http://www.cvlibs.net/datasets/kitti/eval_odometry_detail.php?&result=0f64ee025d9b299acf56a2d86e6acf93cb30056e).\n",
    "\n",
    "__Пришла в голову незамысловатая идея__ - взять позы для стерео, до оптимизации положить в результаты,\n",
    "\n",
    "а позы после оптимизации рассматривать в качестве gt.\n",
    "\n",
    "Судя по выводу, это не очень правильная идея. Притом мне как то повезло, что я наконец додумался переименовать свои позы как '02.txt'. Свое название игнорировалось скриптом. А при выборе других цифр он просто падал.\n",
    "\n",
    "В общем, что это за 11 цифр в __*/data/odometry/poses/*__ я так до конца и не понял.\n",
    "\n",
    "__Вывод.__  Вроде бы в демо txt кроме матриц и не было ничего, а ему надо было еще данные.\n",
    "\n",
    "<img src='../media/kitti_weird.png' style='width: 800px'>\n",
    "\n",
    "__При билде достаточно много warnings__\n",
    "\n",
    "<img src='../media/warnings.png' style='width: 800px'>\n",
    "\n",
    "\n",
    "__Тем не менее вот мой \"график\" для stereo outdoor__\n",
    "\n",
    "<img src='../media/stereo_plot.png' style='width: 500px'>\n",
    "***\n",
    "\n",
    "Что интересно, поначалу я вообще не могу ничего получить. Так как меня ожидал __НАИТУПЕЙШИЙ__ подвох.\n",
    "\n",
    "<img src='../media/otvratitelno.png' style='width: 800px'>\n",
    "\n",
    "Притом для gt надо было переписать не только запятую на точку, но и перевести числа в инж формат. Переписал.\n",
    "\n",
    "<table><tr><td><img src='../media/poses_before.png' style='width: 500px'><td><td>\n",
    "<img src='../media/poses_after.png' style='width: 500px'><td><tr><table>\n",
    "\n",
    "__Что еще удалось получить лежит в папке $root/results.__\n",
    "\n",
    "***\n",
    "***\n",
    "\n",
    "__Это демо пример 00 из каталога__\n",
    "\n",
    "<img src='../media/00.png' style='width: 500px'>\n",
    "\n",
    "<table><tr><td><img src='../media/00_rl.png' style='width: 400px'><td><td>\n",
    "<img src='../media/00_rs.png' style='width: 400px'><td><tr>\n",
    "<tr><td><img src='../media/00_tl.png' style='width: 400px'><td><td>\n",
    "<img src='../media/00_ts.png' style='width: 400px'><td><tr><table>"
   ]
  },
  {
   "cell_type": "markdown",
   "metadata": {},
   "source": [
    "### <font color='#D60B0B'>Разбор теории, термины, полученные и сворованные иллюстрации</font>\n",
    "\n",
    "__Уже в 2017 использовалось множество различных инструментов для SLAM__\n",
    "\n",
    "<img src='../media/slam_approaches.png' style='width: 800px'>\n",
    "\n",
    "RTAB-Map имеет широкий функционал и неплохие встроенные алгоритмы.\n",
    "\n",
    "В примерах, которые я рассматриваю использовали робота azimut3 с rgbd, stereo, lidar + icp.\n",
    "\n",
    "__Следующие схемы отлично демонстрируют связи сенсоров, сервисов для них, ноды для публикации сообщений и т. п.\n",
    "Оптимизационные методы карты в rtabmap, odometry, motion prediciton.__\n",
    "\n",
    "<img src='../media/sensor_rtansfer_results.png' style='width: 800px'>\n",
    "<img src='../media/KF&F2F.png' style='width: 800px'>\n",
    "\n",
    "__На примере stereo получил такую схему tf связей publish-listen__\n",
    "\n",
    "<img src='../media/outdoor_tf.png' style='width: 900px; height: 500px'>\n",
    "\n",
    "\n",
    "***\n",
    "После синхронизации датчиков модуль краткосрочной памяти (STM) создает узел, запоминающий позу одометра, исходные данные датчика и дополнительную информацию, полезную для следующих модулей (например, визуальные слова для замыкания петли и обнаружения близости, а также локальную сетку занятости для сборки Глобальной карты).\n",
    "***\n",
    "***\n",
    "\n",
    "__Еще схема для Key-frame-based optimization algorithm__\n",
    "\n",
    "<img src='../media/icp_odom_motion.png' style='width: 800px'>\n",
    "\n",
    "Построение ICP, одометрия, картирование - все корректируется, в данном случае на основе данных с камер, лидаров, может быть, IMU или иногда внешних источников.\n",
    "\n",
    "__Лучше просто рассмотреть пример с loop closure__\n",
    "\n",
    "\n",
    "__loop closure__\n",
    "\n",
    "<table><tr><td><img src='../media/st_loop_unopt.png' style='width: 400px'><td><td>\n",
    "<img src='../media/st_loop_opt.png' style='width: 400px'><td><tr><table>\n",
    "\n",
    "\n",
    "__стерео картирование до loop__\n",
    "<img src='../media/outdoor_mapping.gif' style='width: 900px'>\n",
    "\n",
    "***\n",
    "\n",
    "Визуальная одометрия здесь получается методом __F2F__ (frame to frame). Красные вспышки экрана говорят о большой ошибке в одометрии модели окружения и картинки с камер в подходе __Key-frame-based optimization__. То есть на гифке как раз был зафиксирован __loop closure__ при возвращении робота на позицию. Желтые имеют меньшее значение. При достоверном определении сенсорами позиций точек окружения (landmarks) согласно алгоритму key-frame \"избранные\" кадры с камер записываются в short term memory, затем обрабатываются и в long term memory и строится __оптимизированная карта реальной среды__. При обнаружении существенных расхождений и детекции loop closure карта положение робота корректируется. И карта также может быть скорректирована."
   ]
  },
  {
   "cell_type": "markdown",
   "metadata": {},
   "source": [
    "### <font color='#D60B0B'>Случай Multi session</font>\n",
    "\n",
    "__Я сделал по бд для каждой bag записи, а после прогнал, согласно инструкции для [tango](https://github.com/introlab/rtabmap/wiki/Multi-Session-Mapping-with-RTAB-Map-Tango).__\n",
    "\n",
    "<img src='../media/databases.png' style='width: 600px'>\n",
    "\n",
    "__В демо для каждой из 5 бд имеем свой кусок карты, например - первый.__\n",
    "\n",
    "<img src='../media/map1_db.png' style='width: 600px'>\n",
    "\n",
    "__А вот результат участка дома из rtabmap tango. То, что мы хотим получить для всех 5 баз.__\n",
    "\n",
    "<img src='../media/tango_house_1.gif' style='width: 900px'>\n",
    "\n",
    "__После чего ставим источником для rtabmap базы данных. Настраиваем параметры передачи потока.__\n",
    "\n",
    "<table><tr><td><img src='../media/source_settings.png' style='width: 600px'><td><td>\n",
    "<img src='../media/3D_settings.png' style='width: 600px'><td><tr><table>\n",
    "***\n",
    "***\n",
    "__Покажу сразу, в адвансе, получается вот такая карта.__\n",
    "\n",
    "<img src='../media/map_5in1.png' style='width: 700px'>\n",
    "\n",
    "\n",
    "__Можно посмотреть в различных фильтрах. В том числе, есть опция подсветки карт из различных бд.__\n",
    "\n",
    "<img src='../media/Peek 2020-07-11 20-25.gif' style='width: 700px'>\n",
    "    \n",
    "***\n",
    "***\n",
    "    \n",
    "__Карты по облаку точек__\n",
    "    \n",
    "<img src='../media/snapshot00.png' style='width: 600px'>\n",
    "<img src='../media/snapshot01.png' style='width: 600px'>  "
   ]
  },
  {
   "cell_type": "markdown",
   "metadata": {},
   "source": [
    "### <font color='#D60B0B'>Теперь красота построения</font>\n",
    "\n",
    "__Для ноута процесс идет не легко. Ловим коллапс.__\n",
    "\n",
    "<img src='../media/collapse.png' style='width: 900px'>\n",
    "\n",
    "__При проигрывании bag на 4x тоже случается беда.__\n",
    "\n",
    "<img src='../media/4xrate_disaster.png' style='width: 900px'>\n",
    "***\n",
    "***\n",
    "\n",
    "__Но на самом деле все терпимо с данной частотой кадров.__\n",
    "\n",
    "<font color='#D60B0B' size=3><center>__Анимации__</center></font>\n",
    "\n",
    "<img src='../media/Peek 2020-07-11 20-03.gif' style='width: 900px'>\n",
    "<img src='../media/Peek 2020-07-11 20-07.gif' style='width: 900px'>\n",
    "<img src='../media/Peek 2020-07-11 20-18.gif' style='width: 900px'>"
   ]
  },
  {
   "cell_type": "code",
   "execution_count": 39,
   "metadata": {
    "scrolled": true
   },
   "outputs": [
    {
     "data": {
      "application/vnd.jupyter.widget-view+json": {
       "model_id": "e391259b3b124941a4f212eb58f7dfee",
       "version_major": 2,
       "version_minor": 0
      },
      "text/plain": [
       "FloatSlider(value=8.0, continuous_update=False, description='Балл:', max=10.0, step=0.5)"
      ]
     },
     "metadata": {},
     "output_type": "display_data"
    }
   ],
   "source": [
    "%run estimate_me.py "
   ]
  },
  {
   "cell_type": "markdown",
   "metadata": {},
   "source": [
    "## DEVEL\n",
    "\n",
    "__Информация дальше только для меня. Точно не на отчет. Поленился уже сделать кнопку__"
   ]
  },
  {
   "cell_type": "markdown",
   "metadata": {},
   "source": [
    "СРАВНЕНИЕ ФОТО РГБ, ГЛУБИНЫ И\n",
    "RGB может быть использована как маска (качество) для глубины\n",
    "opencv используется для детекции фич потока изображений"
   ]
  },
  {
   "cell_type": "markdown",
   "metadata": {},
   "source": [
    "__оптимизация графика распространяет вычисленную ошибку на весь график, чтобы уменьшить дрейф одометрии. С оптимизацией thegraph выходы OctoMap, облака точек и 2D-сетки занятости могут быть собраны и опубликованы во внешних модулях. когда проприоцептивная одометрия еще не доступна на роботе или когда она недостаточно точна, необходимо использовать визуальную или лидарную одометрию.__"
   ]
  },
  {
   "cell_type": "markdown",
   "metadata": {},
   "source": [
    "__LIDAR\n",
    "если частота вращения лазерного сканера высока по сравнению со скоростью робота, лазерное сканирование будет иметь очень низкие искажения движения, и поэтому коррекция может быть проигнорирована без значительной потери точности регистрации.__"
   ]
  },
  {
   "cell_type": "markdown",
   "metadata": {},
   "source": [
    "__Motion Prediction\n",
    "Проблема с этой техникой заключается в том, что если окружающая среда недостаточно сложна (например, в коридоре), одометрия может дрейфовать много, если нет ограничений на направление робота. a robot with a short-range lidar moving in a long corridor in which there are no doors (i.e.,not distinguishable geometry) would only see two parallel lines.__"
   ]
  },
  {
   "cell_type": "markdown",
   "metadata": {},
   "source": [
    "__Pose Update: After successful registration, odometry pose is then updated.__"
   ]
  },
  {
   "cell_type": "markdown",
   "metadata": {},
   "source": [
    "__Key Frame and Point Cloud Map Update:  I\n",
    "Если отношение соответствия находится ниже фиксированного порога \"Odom/ScanKeyFrameThr\", то новый кадр становится ключевым кадром для S2S. для S2M перед интеграцией нового облака точек в карту облака точек выполняется экстрастеп. Карта вычитается из нового облака точек__\n",
    "\n",
    "__а потом ...\n",
    "оставшиеся точки добавляются на карту облака точек. Когда карта облака точек достигает фиксированного максимального порога \"OdomF2M/ScanMaxSize\", самые старые точки удаляются__"
   ]
  },
  {
   "cell_type": "markdown",
   "metadata": {},
   "source": [
    "__БЫЛА ФОТКА__\n",
    "\n",
    "__RTAB-Map  has  a  variety  of  input  topics  (e.g.,  RGB-D  images,  stereo  images,  odometry,  2D  laser  scan,3D point cloud and user data) that can be used depending on the sensors available.  The minimum topicsthat are required to make thertabmapROS node work are registered RGB-D or calibrated stereo imageswith  odometry,  provided  through  a  topic  or  bytf__"
   ]
  },
  {
   "cell_type": "markdown",
   "metadata": {},
   "source": [
    "__OctoMap is created from the single local occupancy grid in the robot referential.OctoMap does 3D ray tracing and detects empty cells between the camera and occupied cells.__"
   ]
  },
  {
   "cell_type": "markdown",
   "metadata": {},
   "source": [
    "__Loop closure detection is done using the bag-of-words approach. when  creating  a  new  node,  STM  extracts  visual  features  from  the  RGB  image  and  quantizesthem to an incremental visual word vocabulary.  Features can be any of the types included in OpenCV. only a subset (maximum of “Kp/MaxFeatures”) of the odometry features with highest response are quantized tovisual word vocabulary. The created node is then compared to nodes in WM to detect a loop closure.  When a loop closure hypothesis reaches the fixed threshold “Rtabmap/LoopThr”,a loop closure is detected and transformation is computed using motion estimation approach.__"
   ]
  },
  {
   "cell_type": "code",
   "execution_count": null,
   "metadata": {},
   "outputs": [],
   "source": []
  },
  {
   "cell_type": "markdown",
   "metadata": {},
   "source": [
    "__ИНТЕРЕСНО ДЛЯ CARTOHRAPHER__\n",
    "\n",
    "__Depending on the parameters “Grid/FromDepth”, “Grid/3D” and the input topics set, the local occupancygrid is generated differently and the result is either 2D or 3D, as shown in Figure 7.  For example, if parameter“Grid/FromDepth” is false andrtabmapnode is subscribed to a laser scan topic, a local 2D occupancy gridis  created.__ p.14\n",
    "\n",
    "__2D Ray Tracing:  For each ray of the laser rangefinder, a line is traced on the grid to fill empty cellsbetween the sensor and the obstacle hit by the ray.  It is assumed that the rays are parallel to theground.  This approach can generate 2D local occupancy grids very fast and is done by default for2D lidar-based mapping.__\n",
    "\n",
    "and 1 more\n",
    "\n",
    "__Projection:  If “Grid/3D” is false, the 3D ground and obstacle point clouds are projected on groundplane (e.g.,x-yplane).  The voxel grid filter is applied again to merge points projected in the samecell.  2D ray tracing can be done to fill empty space between obstacles and the camera.  If 2D raytracing is not used and if the point cloud does not have any points segmented as ground, no emptycells are set in the occupancy grid between the sensor and the obstacles__\n",
    "\n",
    "\n",
    "__SECTION 5__"
   ]
  },
  {
   "cell_type": "code",
   "execution_count": null,
   "metadata": {},
   "outputs": [],
   "source": []
  },
  {
   "cell_type": "markdown",
   "metadata": {},
   "source": [
    "__KITTI__\n",
    "\n",
    "Metrics ?\n",
    "\n",
    "All  errors  are  computed  with  the  map’s  graph  including  loop closures.\n",
    "\n",
    "_?  Localizationrobustness is not addressed explicitly but in all the results presented, no wrong loop closures were accepted ?_"
   ]
  },
  {
   "cell_type": "markdown",
   "metadata": {},
   "source": [
    "i. e.\n",
    "\n",
    "<img src='../media/kitti_ex_better.png'>"
   ]
  },
  {
   "cell_type": "markdown",
   "metadata": {},
   "source": [
    "ОПИСАНИЕ СЕНСОРОВ ДЛЯ КАЖДОГО СЛУЧАЯ. ЧТО БЫЛ ЗА РОБОТ\n",
    "\n",
    "ТАБЛИЦА ОШИБОК КИТТИ ДЛЯ РАЗНЫХ ПАРАМЕТРОВ\n",
    "\n",
    "i. e. average transla-tional error metric"
   ]
  },
  {
   "cell_type": "markdown",
   "metadata": {},
   "source": [
    "<img src='../media/maps.png'>\n",
    "<img src='../media/desired_submaps.png'>\n",
    "\n",
    "__Theglobal trajectories done during each session are shown in purple and orange, respectively.  Neighbor, loopclosure and proximity links are shown in blue, red and yellow, respectively.  The green path is the groundtruth, which is almost not visible in (b) and (c) as the blue line is superposed.__"
   ]
  },
  {
   "cell_type": "markdown",
   "metadata": {},
   "source": [
    "[<font color='#D60B0B' size=7><center>к началу</center></font>](#Источники)"
   ]
  }
 ],
 "metadata": {
  "kernelspec": {
   "display_name": "Python 3",
   "language": "python",
   "name": "python3"
  },
  "language_info": {
   "codemirror_mode": {
    "name": "ipython",
    "version": 3
   },
   "file_extension": ".py",
   "mimetype": "text/x-python",
   "name": "python",
   "nbconvert_exporter": "python",
   "pygments_lexer": "ipython3",
   "version": "3.7.4"
  },
  "toc": {
   "base_numbering": 1,
   "nav_menu": {},
   "number_sections": true,
   "sideBar": true,
   "skip_h1_title": false,
   "title_cell": "Table of Contents",
   "title_sidebar": "Contents",
   "toc_cell": false,
   "toc_position": {
    "height": "calc(100% - 180px)",
    "left": "10px",
    "top": "150px",
    "width": "268.5px"
   },
   "toc_section_display": true,
   "toc_window_display": false
  }
 },
 "nbformat": 4,
 "nbformat_minor": 4
}
