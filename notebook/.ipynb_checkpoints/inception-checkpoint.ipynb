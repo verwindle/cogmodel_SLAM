{
 "cells": [
  {
   "cell_type": "markdown",
   "metadata": {},
   "source": [
    "<font color='#D60B0B' size=5>__Тестовое задание в лабораторию интеллектуального транспорта__</font>\n",
    "### <font color='#D60B0B'>Источники</font>\n",
    "> От \"заказчика\"\n",
    "- __[Статья из дока: RTAB-Map as an Open-Source Lidar and Visual SLAM Library for Large-Scale and Long-Term Online Operation](https://introlab.3it.usherbrooke.ca/mediawiki-introlab/images/7/7a/Labbe18JFR_preprint.pdf)__\n",
    "- __[Real-Time Appearance-Based Mapping](http://introlab.github.io/rtabmap/)__\n",
    "- __[RTAB-Map on github, C++](https://github.com/introlab/rtabmap)__\n",
    "- __[RTAB-Map under ROS](http://wiki.ros.org/rtabmap)__\n",
    "\n",
    "> Далее, наверное, со всем можно сразу познакомиться на хабре\n",
    "- __[Обзор алгоритмов SLAM для камер глубины в ROS](https://habr.com/ru/post/373707/)__\n",
    "- __[Доклады второго ROS Meetup по навигации роботов](https://habr.com/ru/post/493792/)__\n",
    "- __[ROS: использование камер глубины](https://habr.com/ru/post/404757/)__\n",
    "\n",
    "> У Захаркина дожны быть отправные точки для зрения\n",
    "- __[CV 1](https://habr.com/ru/company/mipt/blog/450732/)__\n",
    "- __[CV 2](https://habr.com/ru/company/mipt/blog/458190/)__\n",
    "\n",
    "> Кажется, это старая статья про \"основы\". Под вопросом\n",
    "- __[Первые шаги вместе с ROS](https://habr.com/ru/company/tod/blog/204250/)__\n",
    "\n",
    "> Беспилотники\n",
    "- __[Автопилот своими силами](https://habr.com/ru/post/325704/)__\n",
    "\n",
    "> Дальше что то невнятное пока\n",
    "- __[Lyft 3D](https://habr.com/ru/post/467405/). На каггле подглядеть.__\n",
    "- __~~[Работа с несколькими моделями в Keras](https://habr.com/ru/post/465093/)~~. Вообще keras то зачем, но статью сохраню.__\n",
    "\n",
    "По ходу пунктов ТЗ, есть еще ссылки, наверное, чтобы я точно смог выполнить бэйзлайн. Или студентам даже на этапе теста активно помогают. Я привык к меньшему уровню наставничества, круто )  \n",
    "\n",
    "Пока что, идем по литературе, вникаем в тему. После на гит.\n",
    "\n",
    "У openAI вроде было много про RL, можно глянуть только после основы. Хотя зачем.\n",
    "\n",
    "Статью и плюсы на сладкое.\n",
    "\n",
    "Но не то чтобы, совсем, а то, возможно я сейчас буду читать что попало не по теме."
   ]
  },
  {
   "cell_type": "markdown",
   "metadata": {},
   "source": [
    "<img src='https://i.gifer.com/WDV.gif' style='width: 100px'>"
   ]
  },
  {
   "cell_type": "markdown",
   "metadata": {},
   "source": [
    "Продолжаем разбор материала. После быстрого экскурса гитхаба идет установка, а после непоняток и статья.\n",
    "\n",
    "На самом деле статья это скорее мануал по ros'у, одометрии, используемым алгоритмам, их разбор, RTABmap, как основа.\n",
    "\n",
    "### <font color='#D60B0B'>Установка ROS и RTABMAP</font>\n",
    "\n",
    "Находим возможность подтянуть rtabmap через докер.\n",
    "<img src='../media/rtabmap_dock.png' style='width: 600px'>\n",
    "\n",
    "К сожалению, на clear не вышло удобно собрать docker img, снова проблемы с \"доп\" видеокартой nvidia.\n",
    "\n",
    "Однажды попытка использовать nvidia для gpu ускорения нейронок на clear linux мне стоило недели жизни, некоторых \n",
    "\n",
    "файлов и 2-х крашей винды, причем один без возможности восстановления.\n",
    "<img src='../media/nvidia.png' style='width: 600px'>\n",
    "\n",
    "Так что вынужденным образом собираем по частям на ubuntu. Топорно через apt + cmake. \n",
    "***"
   ]
  },
  {
   "cell_type": "code",
   "execution_count": 3,
   "metadata": {
    "scrolled": true
   },
   "outputs": [
    {
     "data": {
      "text/html": [
       "\n",
       "        <style>\n",
       "        .output {\n",
       "            display: flex;\n",
       "            align-items: center;\n",
       "            text-align: right;\n",
       "        }\n",
       "        </style>\n",
       "        "
      ],
      "text/plain": [
       "<IPython.core.display.HTML object>"
      ]
     },
     "metadata": {},
     "output_type": "display_data"
    },
    {
     "data": {
      "application/vnd.jupyter.widget-view+json": {
       "model_id": "0ce3207712d84b22b61685a4586bce5c",
       "version_major": 2,
       "version_minor": 0
      },
      "text/plain": [
       "Dropdown(description='tools:', index=4, options=('--', 'ros', 'rosdep', 'gazebo', 'rtabmap'), value='rtabmap')"
      ]
     },
     "metadata": {},
     "output_type": "display_data"
    },
    {
     "data": {
      "text/html": [
       "\n",
       "        <style>\n",
       "        .output {\n",
       "            display: flex;\n",
       "            align-items: center;\n",
       "            text-align: right;\n",
       "        }\n",
       "        </style>\n",
       "        "
      ],
      "text/plain": [
       "<IPython.core.display.HTML object>"
      ]
     },
     "metadata": {},
     "output_type": "display_data"
    },
    {
     "data": {
      "text/markdown": [
       "\n",
       "__rtabmap__\n",
       "<img src='../media/rtabmap.png' style='width: 600px'>\n"
      ],
      "text/plain": [
       "<IPython.core.display.Markdown object>"
      ]
     },
     "metadata": {},
     "output_type": "display_data"
    }
   ],
   "source": [
    "%run installed_tools.py"
   ]
  },
  {
   "cell_type": "markdown",
   "metadata": {},
   "source": [
    "### <font color='#D60B0B'>Запуск примеров из коробки</font>"
   ]
  },
  {
   "cell_type": "code",
   "execution_count": 7,
   "metadata": {},
   "outputs": [
    {
     "data": {
      "application/vnd.jupyter.widget-view+json": {
       "model_id": "245252c6a8044d08aa2e624a0eeeb306",
       "version_major": 2,
       "version_minor": 0
      },
      "text/plain": [
       "ToggleButtons(button_style='danger', icons=('check', 'check'), index=1, options=('Улица', 'Помещение'), toolti…"
      ]
     },
     "metadata": {},
     "output_type": "display_data"
    },
    {
     "data": {
      "text/markdown": [
       "\n",
       "__Indoor__\n",
       "<table><tr><td><img src='../media/indoor_1.png' style='width: 300px'><td><td>\n",
       "<img src='../media/indoor_2.png' style='width: 300px'><td><tr>\n",
       "<tr><td><img src='../media/indoor_3.png' style='width: 300px'><td><td>\n",
       "<img src='../media/indoor_4.png' style='width: 300px'><td><tr><table>\n"
      ],
      "text/plain": [
       "<IPython.core.display.Markdown object>"
      ]
     },
     "metadata": {},
     "output_type": "display_data"
    }
   ],
   "source": [
    "%run bag_services.py\n",
    "\n",
    "# clear_output()"
   ]
  },
  {
   "cell_type": "markdown",
   "metadata": {},
   "source": [
    "Ура, я умею крутить кино. На самом деле пока это какой то \"фит-предикт\", надо бы что то явно поинтереснее.\n",
    "    \n",
    "Между прочим, по CV пока ничего не понятно, возможно стоит посмотреть, что там вообще за данные.\n",
    "\n",
    "Следующий этап - изучаем туториалы, кандидат для изучения: [the Construct](https://www.theconstructsim.com/). "
   ]
  },
  {
   "cell_type": "markdown",
   "metadata": {},
   "source": [
    "<img src='https://i.gifer.com/WDV.gif' style='width: 100px'>"
   ]
  },
  {
   "cell_type": "markdown",
   "metadata": {},
   "source": [
    "### <font color='#D60B0B'>Освоение ROS</font>\n",
    "\n",
    "На самом деле в задании не очень много, а тема занятная. Вдобавок - вот что мы видим в __/share__:\n",
    "\n",
    "<img src='../media/ros_share.png' style='width: 600px'>\n",
    "\n",
    "А вот и все звери:"
   ]
  },
  {
   "cell_type": "code",
   "execution_count": 10,
   "metadata": {},
   "outputs": [
    {
     "data": {
      "application/vnd.jupyter.widget-view+json": {
       "model_id": "1d51a56003c24da0935b7291cf9365d4",
       "version_major": 2,
       "version_minor": 0
      },
      "text/plain": [
       "Button(button_style='danger', description='Показать все', style=ButtonStyle(), tooltip=\"I'm waiting\")"
      ]
     },
     "metadata": {},
     "output_type": "display_data"
    }
   ],
   "source": [
    "%run show_share.py"
   ]
  },
  {
   "cell_type": "markdown",
   "metadata": {},
   "source": [
    "Крайне интересно, но ничего не понятно. Так я прошелся по документации и туториалам.\n",
    "\n",
    "Таким образом, на этом этапе я немного расширил свой кругозор. Пересмотрел [источники](#Источники)  (я ж не был в теме тогда).\n",
    "\n",
    "> __Приведу здесь материалы, которые было полезно освоить. Пока что никакого map'a.__\n",
    "1. Курс ROS in 5 days от robot ignite [на С++](https://www.theconstructsim.com/robotigniteacademy_learnros/ros-courses-library/ros-courses-ros-basics-in-5-days-c/) и [на python](https://www.theconstructsim.com/robotigniteacademy_learnros/ros-courses-library/ros-python-course/)\n",
    "2. Его старая версия - [гуглдок](https://docs.google.com/document/d/1qyxLRca5o0URCggOBt0i32CU8aDuOKr9LcjkfZ7vRE0/edit#) с относительно коротким, но подробным описанием и [гитхаб](https://github.com/eborghi10/ROS-in-Five-Days) \n",
    "3. [Туториал с ros'a по catkin](http://wiki.ros.org/catkin/Tutorials) (скорее по ros package)\n",
    "4. [Кирпич по ROS](http://motorboard.ru/files/Learning-ROS-for-Robotics-Programming.pdf) \n",
    "\n",
    "Congratulations! You’re on the path to becoming a ROS Developer. __Теперь более подробно:__\n"
   ]
  },
  {
   "cell_type": "code",
   "execution_count": 11,
   "metadata": {},
   "outputs": [
    {
     "data": {
      "text/html": [
       "\n",
       "        <style>\n",
       "        .output {\n",
       "            display: flex;\n",
       "            align-items: center;\n",
       "            text-align: right;\n",
       "        }\n",
       "        </style>\n",
       "        "
      ],
      "text/plain": [
       "<IPython.core.display.HTML object>"
      ]
     },
     "metadata": {},
     "output_type": "display_data"
    },
    {
     "data": {
      "application/vnd.jupyter.widget-view+json": {
       "model_id": "a24e51d6f11e4632b172c53847557686",
       "version_major": 2,
       "version_minor": 0
      },
      "text/plain": [
       "Dropdown(description='Пункт ↑:', options=('--', '1', '2', '3', '4'), value='--')"
      ]
     },
     "metadata": {},
     "output_type": "display_data"
    }
   ],
   "source": [
    "%run ros_knowledge.py"
   ]
  },
  {
   "cell_type": "markdown",
   "metadata": {},
   "source": [
    "***    \n",
    "Теперь самое время все осмыслить и записать в подкорку)\n",
    "\n",
    "Далее ожидается сборка проекта и упаковка на гитхаб, так, чтобы бы можно было использовать, что я там напридумываю китайским методом.\n",
    "\n",
    "Однажды займусь и сламом.\n",
    "    \n",
    "<img src='https://brainconnection.brainhq.com/testlets/abc-gulp/images/_preloader.gif' style='width: 250px'>"
   ]
  },
  {
   "cell_type": "markdown",
   "metadata": {},
   "source": [
    "Так уж выходит, что на python можно сделать очень много. И это тенденция.\n",
    "\n",
    "Ясно, что ros работает c C++ и еще с python (вроде бы еще некий groovy). Но цитируя не помню кого:\n",
    "\n",
    "\"С++ это сборник эффективного кода для всего, что вам может понадобиться, но скорее всего того, что не понадобится. Если бы вы выкидывали из плюсов все ненужное, стараясь оставить крутые вещи, я уверен - вы бы пришли к python\".\n",
    "\n",
    "Поэтому я пришел к..."
   ]
  },
  {
   "cell_type": "code",
   "execution_count": 12,
   "metadata": {},
   "outputs": [
    {
     "data": {
      "application/vnd.jupyter.widget-view+json": {
       "model_id": "73b2f318f1ee449e956ce63eb1ebbcad",
       "version_major": 2,
       "version_minor": 0
      },
      "text/plain": [
       "Button(button_style='danger', description='К чему?', style=ButtonStyle(), tooltip=\"I'm waiting\")"
      ]
     },
     "metadata": {},
     "output_type": "display_data"
    },
    {
     "data": {
      "text/markdown": [
       "\n",
       "<img src='../media/magicpy.png' style='width: 500px'>\n"
      ],
      "text/plain": [
       "<IPython.core.display.Markdown object>"
      ]
     },
     "metadata": {},
     "output_type": "display_data"
    }
   ],
   "source": [
    "%run genius.py"
   ]
  },
  {
   "cell_type": "markdown",
   "metadata": {},
   "source": [
    "### <font color='#D60B0B'>Неудачи и проблемы</font>\n",
    "Я отнесся к словам о ценности умения использовать различные инструменты для задачи вполне серьезно.\n",
    "\n",
    "Вдобавок сами пункты задания казалось были почти сделаны. Поэтому я и стал заниматься тем, что хорошо описывается картинкой сверху.\n",
    "\n",
    "__К _1 июля_ у меня уже было все, что есть сверху. Что же описано в этой секции заняло у меня время до _6 июля_.__\n",
    "\n",
    "Единственный плюс - я много раз сделал все заново и, надеюсь, лучше понял тему в целом. А также стал больше фиксировать, что я делаю.\n",
    "\n",
    "__По итогу я вернулся к слэму и нашел уже по картинке в голове отличную [статью](https://www.researchgate.net/publication/326986124_REAL-TIME_2D_AND_3D_SLAM_USING_RTAB-MAP_GMAPPING_AND_CARTOGRAPHER_PACKAGES) на researchgate.__ \n",
    "\n",
    "Весь процесс можно описать так:\n",
    "    \n",
    "                                    собрались ->  подготовились -> облажались "
   ]
  },
  {
   "cell_type": "code",
   "execution_count": 14,
   "metadata": {},
   "outputs": [
    {
     "data": {
      "application/vnd.jupyter.widget-view+json": {
       "model_id": "d4a43d89cb6546ee9a964e1c49b19f1f",
       "version_major": 2,
       "version_minor": 0
      },
      "text/plain": [
       "ToggleButtons(button_style='danger', icons=('check', 'check'), options=('Желаемое', 'Действительное'), tooltip…"
      ]
     },
     "metadata": {},
     "output_type": "display_data"
    },
    {
     "data": {
      "text/html": [
       "<iframe width=\"720\" height=\"480\" src=\"https://www.youtube.com/embed/EOdA5X-K8H8\" frameborder=\"1\" allow=\"accelerometer; encrypted-media; gyroscope; picture-in-picture\" allowfullscreen></iframe>"
      ],
      "text/plain": [
       "<IPython.core.display.HTML object>"
      ]
     },
     "metadata": {},
     "output_type": "display_data"
    }
   ],
   "source": [
    "%run comparison.py"
   ]
  },
  {
   "cell_type": "markdown",
   "metadata": {},
   "source": [
    "## NOTE!\n",
    "сделай скрины для сборки cart и что то из hamstir\n",
    "\n",
    "здесь должна быть кнопка\n",
    "\n",
    "результаты на \"до\" работку"
   ]
  },
  {
   "cell_type": "code",
   "execution_count": null,
   "metadata": {},
   "outputs": [],
   "source": []
  },
  {
   "cell_type": "markdown",
   "metadata": {},
   "source": [
    "__Далее скрытая секция, где я опишу кое-что из этих неудач и общий путь.__"
   ]
  },
  {
   "cell_type": "markdown",
   "metadata": {},
   "source": [
    "__Во-первых__, я решил, пока есть время, поискать реализованные проекты симуляций со сборкой под ros.\n",
    "\n",
    "__Во-вторых__, я увидел возможность использовать обучение для планирования пути, все можно было писать лучше знакомыми .py скриптами.\n",
    "\n",
    "__В-третьих__, искал дополнительные инструменты для картирования. SLAM.\n",
    "\n",
    "Из просмотренного материала попробовал интегрировать следующее:\n",
    "1. [robot_training](https://github.com/Derek-TH-Wang/robot_training). Использование симуляций разных роботов и gym для демо демонстраций RL обучения. Используется, например, [fetch_tc](https://bitbucket.org/theconstructcore/fetch_tc/src/melodic-gazebo9/)\n",
    "\n",
    "\n",
    "2. [hamstir_gym](https://github.com/abefetterman/hamstir-gym). Продолжая тему openAI gym. Уже большой проект. RL для робота с моно камерой в помещении (симуляция).\n",
    "\n",
    "\n",
    "3. [cartographer](https://google-cartographer-ros.readthedocs.io/en/latest/). \"Реал-тайм\" построение 2D и 3D карт по информации с ros_msgs, .urdf файлов конфигурации робота. Работает по лазерной навигации. Подписки на топики можно контролировать с помощью .lua файлов конфигурации. В остальном - интерфейс ros.\n",
    "\n",
    "[__robot_training__](https://github.com/Derek-TH-Wang/robot_training)\n",
    "\n",
    "Были попытки запустить тестовые симуляции. Думаю, я не достаточно хорошо понимал, как работает обмен между процессами, что вообще стоит за кодом. Да и даже как нормально собрать проект.\n",
    "\n",
    "Как выглядел src для catkin:\n",
    "<img src='../media/src_robot_training.png' style='width: 600px'>\n",
    "\n",
    "Получил, что получил и занялся следующим ресурсом.\n",
    "<table><tr><td><img src='../media/fetch_gazebo_simulation.png' style='width: 500px'><td><td><img src='../media/fetch_tc_tries_calibrate_launch.png' style='width: 500px'><td><tr><table>\n",
    "\n",
    "[__hamstir_gym__](https://github.com/abefetterman/hamstir-gym)\n",
    "    \n",
    "В данном случае проект выглядит очень привлекательно. Сообщается, что он не готов, тем не менее видим следующие демонстрации:\n",
    "    \n",
    "<table><tr><td><img src='https://github.com/abefetterman/hamstir-gym/raw/master/images/train_demo.gif' style='width: 500px'><td><td><img src='https://github.com/abefetterman/hamstir-gym/raw/master/images/room6x6.png' style='width: 500px'><td><tr><table>\n",
    "\n",
    "Активно используются:\n",
    "- [stable_baselines](https://pypi.org/project/stable-baselines/)\n",
    "- [pybullet](https://pypi.org/project/pybullet/)\n",
    "- [Gibson environment](https://github.com/StanfordVL/GibsonEnv)\n",
    "    \n",
    "Также нужны стандартные вещи вроде gym, tf, torch, related deps.\n",
    "    \n",
    "Интересна папка examples.\n",
    "<img src='../media/hamstir_examples.png' style='width: 600px'>\n",
    "    \n",
    "    \n",
    "- Сразу сталкиваемся с проблемой совместимости с python2.7. Также для гибсона требуется RAM графики больше 6 Гб, но этим я почему то поинтересовался уже в конце. Были и другие проблемы, обычно чего то не хватало, не те версии, ее были прокинуты пути и т. д.\n",
    "    \n",
    "Собрал среду под третий питон, в том числе зачем то и ros. Предполагал как то соединить.\n",
    "<table><tr><td><img src='../media/facing_python_incompatability_catkin.png' style='width: 500px'><td><td><img src='../media/catkin_made_python3.png' style='width: 500px'><td><tr><tr><td><img src='../media/removing_python3_rospkg.png' style='width: 500px'><td><td><img src='../media/python3_ros.png' style='width: 500px'><td><tr><table>\n",
    "    \n",
    "- Долго возился с пониманием работы stable_baselines. Кажется, это местный движок для RL. Кое-что понял, но почти уверен, что продвинулся только чуть.    \n",
    "<table><tr><td><img src='../media/stable_baselines.png' style='width: 500px'><td><td><img src='../media/baselines_common.png' style='width: 500px'><td><tr><table>\n",
    "    \n",
    "\n",
    "- Что касается среды.\n",
    "    \n",
    "По причине не очень хорошего понимания пару раз случилась большая установка-переустановка.\n",
    "    \n",
    "    autoremove 150 пакетов\n",
    "<img src='../media/great_install_autoremove.png' style='width: 600px'>\n",
    "    \n",
    "Как итог после всего этого - __пришлось заново ставить ros и rtabmap__, поскольку он теперь неправильно работал, зато теперь я запомнил процесс. Приведу в конце секции.  \n",
    "    \n",
    "В общем был сделан разумный вывод, что с этим я не справлюсь.\n",
    "    \n",
    "Вспомнил, что мне нужно заниматься bag файлами, а не симуляциями в gazebo.\n",
    "\n",
    "    \n",
    "[__cartographer_ros__](https://google-cartographer-ros.readthedocs.io/en/latest/)\n",
    "    \n",
    "С cartographer_ros не то чтобы явная неудача, но повозиться пришлось, а в итоге большого смысла не имело, поскольку rtabmap располагает похожим функционалом.\n",
    "\n",
    "<img src='../media/map2_enhanced.gif' style='width: 600px'>\n",
    "\n",
    "Тем не менее, конечно есть свои плюсы. Описано в той же [статье 2D AND 3D SLAM USING RTAB-MAP GMAPPING AND CARTOGRAPHER](https://www.researchgate.net/publication/326986124_REAL-TIME_2D_AND_3D_SLAM_USING_RTAB-MAP_GMAPPING_AND_CARTOGRAPHER_PACKAGES).\n",
    "\n",
    "Как я уже писал, были неявные ошибки билдов и, следовательно, работы. Когда и что я сломал было уже совсем не понятно. Что то странное было с rosdep. Не находил модуль rosdistro при запуске sudo, и однажды приходилось собирать \"from source\". Не прокатило. \n",
    "\n",
    "<img src='../media/rtabmab_cant_read_topics.png' style='width: 600px'>\n",
    "\n",
    "В итоге, разобравшись поболее с работой catkin, билд был наконец успешно совершен. Поставлены rtabmap и cartographer - как раз для манипуляций с записями.\n",
    "\n",
    "__тесты__\n",
    "<img src='../media/ninja_test.png' style='width: 600px'>\n",
    "    \n",
    "__subscribe materials__\n",
    "<img src='../media/subscribe_understanding.png' style='width: 600px'>\n",
    "\n",
    "Дает понимание, с каких сенсоров приходят данные и что включать в скрипт.\n",
    "\n",
    "__демо картирования музея__\n",
    "<table><tr><td><img src='../media/cartographer_deutsches_museum.png' style='width: 500px'><td><td><img src='../media/another_museum.png' style='width: 500px'><td><tr><table>\n",
    "\n",
    "\n",
    "- Были и прочие проблемы, кажется я и так много написал. Оставлю напоследок свои \"журналы\"."
   ]
  },
  {
   "cell_type": "code",
   "execution_count": 16,
   "metadata": {},
   "outputs": [
    {
     "data": {
      "application/vnd.jupyter.widget-view+json": {
       "model_id": "10729de485a6452782d823ef9555bb40",
       "version_major": 2,
       "version_minor": 0
      },
      "text/plain": [
       "Dropdown(description='Пара .txt', options=('--', 'Заметки часть 1', 'Заметки часть 2'), value='--')"
      ]
     },
     "metadata": {},
     "output_type": "display_data"
    }
   ],
   "source": [
    "%run show_installment_txts.py"
   ]
  },
  {
   "cell_type": "markdown",
   "metadata": {},
   "source": [
    "### <font color='#D60B0B'>Как правильно собирать проект</font>\n",
    "\n",
    "__ros-melodic__\n",
    "<img src='../media/great_install_full_except_rtabmap_rviz__learning_now_discarded.png' style='width: 600px'>\n",
    "\n",
    "__rtab-map__\n",
    "<img src='../media/rtabmap_install.png' style='width: 600px'>\n",
    "\n",
    "\n",
    "__opencv__ (manual cmake)\n",
    "<img src='../media/opencv_build.png' style='width: 600px'>"
   ]
  },
  {
   "cell_type": "markdown",
   "metadata": {},
   "source": [
    "### <font color='#D60B0B'>Результаты</font>\n",
    "\n",
    "__transform граф (одометрия)__\n",
    "<img src='../media/outdoor_tf.png' style='width: 900px; height: 500px'>\n",
    "\n",
    "__матрица поз робота__ (стерео, без оптимизации карты, просто 1 пример для картинки)\n",
    "<img src='../media/robot_poses_outdoor_nop.png' style='width: 600px'>\n",
    "\n",
    "__стерео карта__\n",
    "<img src='../media/playing_with_rtabmap_visual_2D_outdoor.png' style='width: 600px'>\n",
    "__стерео карта анимация__\n",
    "<img src='../media/outdoor_mapping.gif' style='width: 600px'>\n",
    "\n",
    "За одним, здесь slam строится методом _соотнесения временных визуальных данных_ (узнать название).\n",
    "\n",
    "Красные вспышки экрана говорят о большой ошибке несоответствии модели окружения и картинки с камер. Там как раз был зафиксирован __loop closure__. Желтые имеют меньшее значение. "
   ]
  },
  {
   "cell_type": "code",
   "execution_count": 17,
   "metadata": {
    "scrolled": false
   },
   "outputs": [
    {
     "data": {
      "application/vnd.jupyter.widget-view+json": {
       "model_id": "b957d069c864419ab8b1c3d8e6f96457",
       "version_major": 2,
       "version_minor": 0
      },
      "text/plain": [
       "FloatSlider(value=8.0, continuous_update=False, description='Балл:', max=10.0, step=0.5)"
      ]
     },
     "metadata": {},
     "output_type": "display_data"
    },
    {
     "data": {
      "text/html": [
       "<font color=#D61100 size=4>Спасибо за высокую оценку</font>"
      ],
      "text/plain": [
       "<IPython.core.display.HTML object>"
      ]
     },
     "metadata": {},
     "output_type": "display_data"
    }
   ],
   "source": [
    "%run estimate_me.py "
   ]
  },
  {
   "cell_type": "code",
   "execution_count": null,
   "metadata": {},
   "outputs": [],
   "source": []
  }
 ],
 "metadata": {
  "kernelspec": {
   "display_name": "Python 3",
   "language": "python",
   "name": "python3"
  },
  "language_info": {
   "codemirror_mode": {
    "name": "ipython",
    "version": 3
   },
   "file_extension": ".py",
   "mimetype": "text/x-python",
   "name": "python",
   "nbconvert_exporter": "python",
   "pygments_lexer": "ipython3",
   "version": "3.8.3"
  },
  "toc": {
   "base_numbering": 1,
   "nav_menu": {},
   "number_sections": true,
   "sideBar": true,
   "skip_h1_title": false,
   "title_cell": "Table of Contents",
   "title_sidebar": "Contents",
   "toc_cell": false,
   "toc_position": {},
   "toc_section_display": true,
   "toc_window_display": false
  },
  "widgets": {
   "application/vnd.jupyter.widget-state+json": {
    "state": {
     "009631a2a6234edc9b3b0cd29ae39723": {
      "model_module": "@jupyter-widgets/base",
      "model_module_version": "1.2.0",
      "model_name": "LayoutModel",
      "state": {}
     },
     "0615122db0d1477e9817d1269fb1cc95": {
      "model_module": "@jupyter-widgets/controls",
      "model_module_version": "1.5.0",
      "model_name": "SliderStyleModel",
      "state": {
       "description_width": ""
      }
     },
     "064f0d681c3545c6bc99bf6e4e99ce2f": {
      "model_module": "@jupyter-widgets/controls",
      "model_module_version": "1.5.0",
      "model_name": "ButtonModel",
      "state": {
       "button_style": "danger",
       "description": "К чему?",
       "layout": "IPY_MODEL_5bdcabb7b28e44f38ab454186a032635",
       "style": "IPY_MODEL_4cea011871e34a0e82a3c121bd1e74b3",
       "tooltip": "I'm waiting"
      }
     },
     "298d3f2a0867422cac11919d3a3affa2": {
      "model_module": "@jupyter-widgets/base",
      "model_module_version": "1.2.0",
      "model_name": "LayoutModel",
      "state": {}
     },
     "31520d26f0934c8597a8576679545c27": {
      "model_module": "@jupyter-widgets/controls",
      "model_module_version": "1.5.0",
      "model_name": "DescriptionStyleModel",
      "state": {
       "description_width": ""
      }
     },
     "4cea011871e34a0e82a3c121bd1e74b3": {
      "model_module": "@jupyter-widgets/controls",
      "model_module_version": "1.5.0",
      "model_name": "ButtonStyleModel",
      "state": {}
     },
     "54668e89dec64effb60790cf93829fab": {
      "model_module": "@jupyter-widgets/base",
      "model_module_version": "1.2.0",
      "model_name": "LayoutModel",
      "state": {}
     },
     "561043b6c4c649b18464c280c8a0b8ae": {
      "model_module": "@jupyter-widgets/controls",
      "model_module_version": "1.5.0",
      "model_name": "ToggleButtonsStyleModel",
      "state": {
       "button_width": "",
       "description_width": ""
      }
     },
     "567f2997d152447daf960cc8f37a261f": {
      "model_module": "@jupyter-widgets/controls",
      "model_module_version": "1.5.0",
      "model_name": "ButtonModel",
      "state": {
       "button_style": "danger",
       "description": "Показать все",
       "layout": "IPY_MODEL_009631a2a6234edc9b3b0cd29ae39723",
       "style": "IPY_MODEL_e87a4fdce49b47048a87139a48df5a49",
       "tooltip": "I'm waiting"
      }
     },
     "5bdcabb7b28e44f38ab454186a032635": {
      "model_module": "@jupyter-widgets/base",
      "model_module_version": "1.2.0",
      "model_name": "LayoutModel",
      "state": {}
     },
     "6c5f7958555746f3b29f90e483e2d5fd": {
      "model_module": "@jupyter-widgets/controls",
      "model_module_version": "1.5.0",
      "model_name": "DropdownModel",
      "state": {
       "_options_labels": [
        "--",
        "ros",
        "rosdep",
        "gazebo",
        "rtabmap"
       ],
       "description": "tools:",
       "index": 0,
       "layout": "IPY_MODEL_a5467a64dff948c7ba1ff9d94e4dca93",
       "style": "IPY_MODEL_f87e4989387a432ab1a62de54967779d"
      }
     },
     "a5467a64dff948c7ba1ff9d94e4dca93": {
      "model_module": "@jupyter-widgets/base",
      "model_module_version": "1.2.0",
      "model_name": "LayoutModel",
      "state": {}
     },
     "d24deae3f7b146a3b7ff9c4e600a458f": {
      "model_module": "@jupyter-widgets/controls",
      "model_module_version": "1.5.0",
      "model_name": "DropdownModel",
      "state": {
       "_options_labels": [
        "--",
        "1",
        "2",
        "3",
        "4"
       ],
       "description": "Пункт ↑:",
       "index": 0,
       "layout": "IPY_MODEL_ec609f0369f94fb79d2bf91d11622fc7",
       "style": "IPY_MODEL_31520d26f0934c8597a8576679545c27"
      }
     },
     "d5cfc56e8bfe4ac6b9852908176209e1": {
      "model_module": "@jupyter-widgets/controls",
      "model_module_version": "1.5.0",
      "model_name": "ToggleButtonsModel",
      "state": {
       "_options_labels": [
        "Улица",
        "Помещение"
       ],
       "button_style": "danger",
       "icons": [
        "check",
        "check"
       ],
       "index": 0,
       "layout": "IPY_MODEL_54668e89dec64effb60790cf93829fab",
       "style": "IPY_MODEL_561043b6c4c649b18464c280c8a0b8ae",
       "tooltips": [
        "I'm waiting",
        "I'm waiting"
       ]
      }
     },
     "e87a4fdce49b47048a87139a48df5a49": {
      "model_module": "@jupyter-widgets/controls",
      "model_module_version": "1.5.0",
      "model_name": "ButtonStyleModel",
      "state": {}
     },
     "ec609f0369f94fb79d2bf91d11622fc7": {
      "model_module": "@jupyter-widgets/base",
      "model_module_version": "1.2.0",
      "model_name": "LayoutModel",
      "state": {}
     },
     "f20812d11a5847f9b10b4a11980744b6": {
      "model_module": "@jupyter-widgets/controls",
      "model_module_version": "1.5.0",
      "model_name": "FloatSliderModel",
      "state": {
       "continuous_update": false,
       "description": "Балл:",
       "layout": "IPY_MODEL_298d3f2a0867422cac11919d3a3affa2",
       "max": 10,
       "step": 0.5,
       "style": "IPY_MODEL_0615122db0d1477e9817d1269fb1cc95",
       "value": 8
      }
     },
     "f87e4989387a432ab1a62de54967779d": {
      "model_module": "@jupyter-widgets/controls",
      "model_module_version": "1.5.0",
      "model_name": "DescriptionStyleModel",
      "state": {
       "description_width": ""
      }
     }
    },
    "version_major": 2,
    "version_minor": 0
   }
  }
 },
 "nbformat": 4,
 "nbformat_minor": 4
}
